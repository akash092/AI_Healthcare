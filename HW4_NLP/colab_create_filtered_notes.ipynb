{
  "cells": [
    {
      "cell_type": "code",
      "source": [
        "!git clone https://github.com/akash092/AI_Healthcare.git"
      ],
      "metadata": {
        "colab": {
          "base_uri": "https://localhost:8080/"
        },
        "id": "MCvUyKGd61fo",
        "outputId": "5e707e3b-4baf-4052-8f90-0666fa7a334c"
      },
      "execution_count": 1,
      "outputs": [
        {
          "output_type": "stream",
          "name": "stdout",
          "text": [
            "Cloning into 'AI_Healthcare'...\n",
            "remote: Enumerating objects: 54, done.\u001b[K\n",
            "remote: Counting objects: 100% (54/54), done.\u001b[K\n",
            "remote: Compressing objects: 100% (49/49), done.\u001b[K\n",
            "remote: Total 54 (delta 4), reused 49 (delta 1), pack-reused 0 (from 0)\u001b[K\n",
            "Receiving objects: 100% (54/54), 12.73 MiB | 11.95 MiB/s, done.\n",
            "Resolving deltas: 100% (4/4), done.\n"
          ]
        }
      ]
    },
    {
      "cell_type": "code",
      "source": [
        "!pip install --quiet google-cloud-bigquery\n",
        "\n",
        "# Import libraries\n",
        "from google.cloud import bigquery\n",
        "from google.colab import auth\n",
        "\n",
        "# Authenticate your Google account\n",
        "auth.authenticate_user()\n",
        "\n",
        "# Set up BigQuery client (use your GCP project ID)\n",
        "project_id = 'akashapiplayground'  # Replace with your actual project ID\n",
        "client = bigquery.Client(project=project_id)"
      ],
      "metadata": {
        "id": "aczB9Xr5Jxy_"
      },
      "execution_count": 2,
      "outputs": []
    },
    {
      "cell_type": "code",
      "source": [
        "# ICD9. 430. Subarachnoid hemorrage\n",
        "# ICD9. 5849. Acute kidney failure NOS\n",
        "# Filter those diagnoses where billing was for 430\n",
        "query = \"\"\"\n",
        "\n",
        "  SELECT *\n",
        "  FROM physionet-data.mimiciii_clinical.diagnoses_icd\n",
        "  WHERE icd9_code  IN ('430', '5849')\n",
        "  \"\"\"\n",
        "\n",
        "query_job = client.query(query)\n",
        "diagnoses = query_job.to_dataframe()\n",
        "len(diagnoses)"
      ],
      "metadata": {
        "id": "YZFLLidUNWLV",
        "outputId": "398d6565-575e-4ff3-91b1-56e241a4f26c",
        "colab": {
          "base_uri": "https://localhost:8080/"
        }
      },
      "execution_count": 22,
      "outputs": [
        {
          "output_type": "execute_result",
          "data": {
            "text/plain": [
              "9777"
            ]
          },
          "metadata": {},
          "execution_count": 22
        }
      ]
    },
    {
      "cell_type": "code",
      "source": [
        "arr_subject_id=[]\n",
        "arr_hadm_id=[]\n",
        "for row in range(0, len(diagnoses)):\n",
        "  if(diagnoses.loc[row, 'ICD9_CODE'] in ['5849', '430']):\n",
        "    arr_subject_id.append(diagnoses.loc[row, 'SUBJECT_ID'])\n",
        "    arr_hadm_id.append(diagnoses.loc[row, 'HADM_ID'])\n",
        "\n",
        "print(f\"{len(arr_subject_id)=}\")"
      ],
      "metadata": {
        "id": "VK2LoopdSKqR",
        "outputId": "390b16eb-9cc7-4a2d-c465-eb14788bc370",
        "colab": {
          "base_uri": "https://localhost:8080/"
        }
      },
      "execution_count": 25,
      "outputs": [
        {
          "output_type": "stream",
          "name": "stdout",
          "text": [
            "len(arr_subject_id)=9777\n"
          ]
        }
      ]
    },
    {
      "cell_type": "code",
      "source": [
        "# Filter those notevents where subejct_id and hadm_id matches the one returned\n",
        "# from diagnoses_icd query\n",
        "query = \"\"\"\n",
        "\n",
        "  SELECT *\n",
        "  FROM physionet-data.mimiciii_notes.noteevents\n",
        "  \"\"\"\n",
        "\n",
        "query_job = client.query(query)\n",
        "noteevents = query_job.to_dataframe()\n",
        "len(noteevents)"
      ],
      "metadata": {
        "id": "PtTMRHu3Rhw2",
        "outputId": "223e8859-48eb-4c17-f4af-259955c76912",
        "colab": {
          "base_uri": "https://localhost:8080/"
        }
      },
      "execution_count": 9,
      "outputs": [
        {
          "output_type": "execute_result",
          "data": {
            "text/plain": [
              "2083180"
            ]
          },
          "metadata": {},
          "execution_count": 9
        }
      ]
    },
    {
      "cell_type": "code",
      "source": [
        "import pandas as pd"
      ],
      "metadata": {
        "id": "E-Zun4c4UEO1"
      },
      "execution_count": 10,
      "outputs": []
    },
    {
      "cell_type": "code",
      "source": [
        "df_noteevents_filtered = noteevents[noteevents['SUBJECT_ID'].isin(arr_subject_id) & noteevents['HADM_ID'].isin(arr_hadm_id)]\n",
        "len(df_noteevents_filtered)"
      ],
      "metadata": {
        "id": "yO1KAzGAUAtm",
        "outputId": "37cc13f2-41d2-4f3c-d60f-bc02f62ac1b7",
        "colab": {
          "base_uri": "https://localhost:8080/"
        }
      },
      "execution_count": 26,
      "outputs": [
        {
          "output_type": "execute_result",
          "data": {
            "text/plain": [
              "374555"
            ]
          },
          "metadata": {},
          "execution_count": 26
        }
      ]
    },
    {
      "cell_type": "code",
      "source": [
        "print(df_noteevents_filtered['CATEGORY'].unique())\n",
        "print(df_noteevents_filtered.iloc[0]['TEXT'])"
      ],
      "metadata": {
        "id": "8ALeGRnaZXLx",
        "outputId": "0b8d0788-485d-4281-fcab-ea26a6896de8",
        "colab": {
          "base_uri": "https://localhost:8080/"
        }
      },
      "execution_count": 28,
      "outputs": [
        {
          "output_type": "stream",
          "name": "stdout",
          "text": [
            "['Nursing' 'Radiology' 'Nursing/other' 'ECG' 'Nutrition' 'Physician '\n",
            " 'General' 'Discharge summary' 'Rehab Services' 'Respiratory ' 'Echo'\n",
            " 'Case Management ' 'Social Work' 'Consult' 'Pharmacy']\n",
            "68 yo F with extensive PMH: MI x 3; 70 % occluded LAD even with stent\n",
            "   in '[**36**]; CABG '[**37**]; arthritis; ulcers; gastritis; reflux;\n",
            "   diver6ticulitis; CRI/RAS-s/p stent '[**40**]; Left carotid stent '[**36**]; urinary\n",
            "   incontinence; endometrial polyps; osteoarthritis; polymalagia;\n",
            "   rheumatoid; PVD; stenting of distal aorta and iliac arteries '[**40**];\n",
            "   hypercholesterol; Newly dx Squamous cell Lung CA [**5-29**] s/p LLL resection\n",
            "   w/ New onset Afib after lung resection on Amiodarone, Metoprolol and\n",
            "   Coumadin .   On [**6-23**] presented to ED w/ BRBPR x3 was hemodynamically\n",
            "   stable adm to floor.   On [**6-24**]  active bleed, hypotensive SBP 70\n",
            "   transferred MICU 7 multiple episodes BRBPR  fluid resusitaion 2Liters\n",
            "   and subsequent 8UPRBC for falling HCT. [**6-25**] Colonoscopy revealed\n",
            "   extensive diverticlar throughout entire colon ( + ) active bleed\n",
            "   location undetermined. [**6-26**] Nuclear med tag red cell study result\n",
            "   pending.\n",
            "   .H/O gastrointestinal bleed, lower (Hematochezia, BRBPR, GI Bleed, GIB)\n",
            "   Assessment:\n",
            "   Awake alert oriented x3,  MAE steady, OOB to chair and commode. CV:  HR\n",
            "   58-70 SB-NSR rare PVC\n",
            "s,   NBP  100-135/45-60 MAPS>60, peripheral\n",
            "   pulses 2+ DP/DT, 1+ dependent edema. IV access 2PIV difficult access.\n",
            "   K+ 3.3 .   GI:  Multiple episodes BRBPR w/  clots seriel Hct  30/ 24.3\n",
            "   , INR 1.1 cont on Plavix. Abd soft distended hyperactive BS, remains\n",
            "   NPO,  Resp:  RR 12-20 reg, nonlabored, R/A  sats 97-100%. Lungs clear\n",
            "   dim LLL.  Social Husband and son visited  updated on status and plan of\n",
            "   care.\n",
            "   Action:\n",
            "    to Nuclear medicine Tag red cell study @ 1000 and 1500.  transfused\n",
            "   1UPRBC for falling Hct ,  K+ repletion 40meq\n",
            "   Response:\n",
            "   Cont Active BRBPR less frequent.  K+ 3.8 , Pt expressing feelings of\n",
            "   difficulty dealing w/ recent illness/ca dx and now GIB with no\n",
            "   resolution, weepy on and off throughout day.\n",
            "   Plan:\n",
            "   Goal Hct >30,  Seriel Hct Q6hrs , PICC Line placement IR, ? need for\n",
            "   Angio.\n",
            "\n"
          ]
        }
      ]
    },
    {
      "cell_type": "code",
      "source": [
        "df_discharge_notes = df_noteevents_filtered[df_noteevents_filtered['CATEGORY'] == 'Discharge summary']\n",
        "len(df_discharge_notes)"
      ],
      "metadata": {
        "id": "v9khlSHfZ435",
        "outputId": "f588ef9d-8702-4ed6-cb6f-24e3e5206408",
        "colab": {
          "base_uri": "https://localhost:8080/"
        }
      },
      "execution_count": 30,
      "outputs": [
        {
          "output_type": "execute_result",
          "data": {
            "text/plain": [
              "10603"
            ]
          },
          "metadata": {},
          "execution_count": 30
        }
      ]
    },
    {
      "cell_type": "code",
      "source": [
        "df_discharge_notes.to_csv('df_discharge_notes_430_5849.csv', index=False)"
      ],
      "metadata": {
        "id": "kaItk2wBaIEV"
      },
      "execution_count": 31,
      "outputs": []
    }
  ],
  "metadata": {
    "colab": {
      "provenance": []
    },
    "kernelspec": {
      "display_name": "Python 3",
      "name": "python3"
    }
  },
  "nbformat": 4,
  "nbformat_minor": 0
}