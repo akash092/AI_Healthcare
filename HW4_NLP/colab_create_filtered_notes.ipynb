{
  "cells": [
    {
      "cell_type": "code",
      "source": [
        "!pip install --quiet google-cloud-bigquery\n",
        "\n",
        "# Import libraries\n",
        "from google.cloud import bigquery\n",
        "from google.colab import auth\n",
        "\n",
        "# Authenticate your Google account\n",
        "auth.authenticate_user()\n",
        "\n",
        "# Set up BigQuery client (use your GCP project ID)\n",
        "project_id = 'akashapiplayground'  # Replace with your actual project ID\n",
        "client = bigquery.Client(project=project_id)"
      ],
      "metadata": {
        "id": "aczB9Xr5Jxy_"
      },
      "execution_count": 1,
      "outputs": []
    },
    {
      "cell_type": "code",
      "source": [
        "# ICD9. 430. Subarachnoid hemorrage\n",
        "# Filter those diagnoses where billing was for 430\n",
        "query = \"\"\"\n",
        "\n",
        "  SELECT *\n",
        "  FROM physionet-data.mimiciii_clinical.diagnoses_icd\n",
        "  WHERE icd9_code  IN ('430')\n",
        "  \"\"\"\n",
        "\n",
        "query_job = client.query(query)\n",
        "diagnoses = query_job.to_dataframe()\n",
        "arr_subject_id=[]\n",
        "arr_hadm_id=[]\n",
        "for row in range(0, len(diagnoses)):\n",
        "  if(diagnoses.loc[row, 'ICD9_CODE'] in ['430']):\n",
        "    arr_subject_id.append(diagnoses.loc[row, 'SUBJECT_ID'])\n",
        "    arr_hadm_id.append(diagnoses.loc[row, 'HADM_ID'])\n",
        "\n",
        "print(f\"{len(arr_subject_id)=}\")"
      ],
      "metadata": {
        "id": "YZFLLidUNWLV",
        "outputId": "33742f71-fb73-4972-cf44-0b72f979931a",
        "colab": {
          "base_uri": "https://localhost:8080/"
        }
      },
      "execution_count": 2,
      "outputs": [
        {
          "output_type": "stream",
          "name": "stdout",
          "text": [
            "len(arr_subject_id)=658\n"
          ]
        }
      ]
    },
    {
      "cell_type": "code",
      "source": [
        "# Filter those notevents where subejct_id and hadm_id matches the one returned\n",
        "# from diagnoses_icd query\n",
        "query = \"\"\"\n",
        "\n",
        "  SELECT *\n",
        "  FROM physionet-data.mimiciii_notes.noteevents\n",
        "  \"\"\"\n",
        "\n",
        "query_job = client.query(query)\n",
        "noteevents = query_job.to_dataframe()\n",
        "df_noteevents_filtered = noteevents[noteevents['SUBJECT_ID'].isin(arr_subject_id) & noteevents['HADM_ID'].isin(arr_hadm_id)]\n",
        "df_discharge_notes = df_noteevents_filtered[df_noteevents_filtered['CATEGORY'] == 'Discharge summary']\n",
        "print(f\"{len(df_discharge_notes)=}\")\n",
        "df_discharge_notes.to_csv('df_discharge_notes_430.csv', index=False)"
      ],
      "metadata": {
        "id": "PtTMRHu3Rhw2",
        "outputId": "ad00c612-60bb-4c58-9cd2-1c74aa0c3a01",
        "colab": {
          "base_uri": "https://localhost:8080/"
        }
      },
      "execution_count": 3,
      "outputs": [
        {
          "output_type": "stream",
          "name": "stdout",
          "text": [
            "len(df_discharge_notes)=697\n"
          ]
        }
      ]
    }
  ],
  "metadata": {
    "colab": {
      "provenance": [],
      "machine_shape": "hm"
    },
    "kernelspec": {
      "display_name": "Python 3",
      "name": "python3"
    }
  },
  "nbformat": 4,
  "nbformat_minor": 0
}