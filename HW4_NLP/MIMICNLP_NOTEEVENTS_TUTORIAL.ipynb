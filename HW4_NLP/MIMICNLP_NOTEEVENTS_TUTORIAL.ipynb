{
  "nbformat": 4,
  "nbformat_minor": 0,
  "metadata": {
    "colab": {
      "provenance": []
    },
    "kernelspec": {
      "name": "python3",
      "display_name": "Python 3"
    }
  },
  "cells": [
    {
      "cell_type": "markdown",
      "source": [
        "# **This notebook demonstrates how to filter medical notes from `NOTEEVENTS` by ICD-9 diagnosis code: 430**\n",
        "\n",
        " *ICD-9, 430, is subarachnoid hemorrhage (SAH). SAH is a life-threatening accumulation of blood between the arachnoid and pia mater in the brain.*\n",
        "\n",
        "---\n",
        "\n",
        "### **Steps**\n",
        "\n",
        "1. [Pandas](https://pandas.pydata.org) is used to load `D_ICD_DIAGNOSES.csv.gz` and `NOTEEVENTS.csv.gz`.\n",
        "2. Filter unique subjects with `ICD9_CODE=='430'`.\n",
        "3. Additionally, filter medical notes with `CATEGORY=='Radiology'`.\n",
        "4. Save DataFrame to CSV file.\n",
        "\n",
        "---\n",
        "\n",
        "### **References**\n",
        "\n",
        "[Documentation for NOTEEVENTS](https://mimic.mit.edu/docs/iii/tables/noteevents/)\n",
        "\n",
        "[Documentation for DIAGNOSES_ICD](https://mimic.mit.edu/docs/iii/tables/diagnoses_icd/)\n",
        "\n",
        "-\n",
        "\n",
        "P.S. This transformation can be done in a single query in SQL."
      ],
      "metadata": {
        "id": "dN5E5HXlPvDV"
      }
    },
    {
      "cell_type": "code",
      "metadata": {
        "id": "fzTpT58iwFKg"
      },
      "source": [
        "import pandas as pd"
      ],
      "execution_count": null,
      "outputs": []
    },
    {
      "cell_type": "code",
      "source": [
        "# RUN if files are located on your Google Drive\n",
        "from google.colab import drive\n",
        "drive.mount('/content/drive')"
      ],
      "metadata": {
        "colab": {
          "base_uri": "https://localhost:8080/"
        },
        "id": "ZE3Na3xAMf0V",
        "outputId": "8d6551a2-8c9a-4724-efb8-12dbefcc60c9"
      },
      "execution_count": null,
      "outputs": [
        {
          "output_type": "stream",
          "name": "stdout",
          "text": [
            "Drive already mounted at /content/drive; to attempt to forcibly remount, call drive.mount(\"/content/drive\", force_remount=True).\n"
          ]
        }
      ]
    },
    {
      "cell_type": "markdown",
      "metadata": {
        "id": "MYiS8P9dCr69"
      },
      "source": [
        "# **Start by uploading the DIAGNOSES_ICD file and getting all patients for** `ICD9_CODE==430`"
      ]
    },
    {
      "cell_type": "code",
      "metadata": {
        "id": "6YyRNmaAFCr1",
        "colab": {
          "base_uri": "https://localhost:8080/",
          "height": 38
        },
        "outputId": "949403ac-dec5-416f-9806-b62935db7c2e"
      },
      "source": [
        "# RUN if DIAGNOSES_ICD is located on your local machine\n",
        "from google.colab import files\n",
        "uploaded = files.upload()"
      ],
      "execution_count": null,
      "outputs": [
        {
          "output_type": "display_data",
          "data": {
            "text/plain": [
              "<IPython.core.display.HTML object>"
            ],
            "text/html": [
              "\n",
              "     <input type=\"file\" id=\"files-c41f8833-574b-49fa-a825-3b34636b2d1f\" name=\"files[]\" multiple disabled\n",
              "        style=\"border:none\" />\n",
              "     <output id=\"result-c41f8833-574b-49fa-a825-3b34636b2d1f\">\n",
              "      Upload widget is only available when the cell has been executed in the\n",
              "      current browser session. Please rerun this cell to enable.\n",
              "      </output>\n",
              "      <script>// Copyright 2017 Google LLC\n",
              "//\n",
              "// Licensed under the Apache License, Version 2.0 (the \"License\");\n",
              "// you may not use this file except in compliance with the License.\n",
              "// You may obtain a copy of the License at\n",
              "//\n",
              "//      http://www.apache.org/licenses/LICENSE-2.0\n",
              "//\n",
              "// Unless required by applicable law or agreed to in writing, software\n",
              "// distributed under the License is distributed on an \"AS IS\" BASIS,\n",
              "// WITHOUT WARRANTIES OR CONDITIONS OF ANY KIND, either express or implied.\n",
              "// See the License for the specific language governing permissions and\n",
              "// limitations under the License.\n",
              "\n",
              "/**\n",
              " * @fileoverview Helpers for google.colab Python module.\n",
              " */\n",
              "(function(scope) {\n",
              "function span(text, styleAttributes = {}) {\n",
              "  const element = document.createElement('span');\n",
              "  element.textContent = text;\n",
              "  for (const key of Object.keys(styleAttributes)) {\n",
              "    element.style[key] = styleAttributes[key];\n",
              "  }\n",
              "  return element;\n",
              "}\n",
              "\n",
              "// Max number of bytes which will be uploaded at a time.\n",
              "const MAX_PAYLOAD_SIZE = 100 * 1024;\n",
              "\n",
              "function _uploadFiles(inputId, outputId) {\n",
              "  const steps = uploadFilesStep(inputId, outputId);\n",
              "  const outputElement = document.getElementById(outputId);\n",
              "  // Cache steps on the outputElement to make it available for the next call\n",
              "  // to uploadFilesContinue from Python.\n",
              "  outputElement.steps = steps;\n",
              "\n",
              "  return _uploadFilesContinue(outputId);\n",
              "}\n",
              "\n",
              "// This is roughly an async generator (not supported in the browser yet),\n",
              "// where there are multiple asynchronous steps and the Python side is going\n",
              "// to poll for completion of each step.\n",
              "// This uses a Promise to block the python side on completion of each step,\n",
              "// then passes the result of the previous step as the input to the next step.\n",
              "function _uploadFilesContinue(outputId) {\n",
              "  const outputElement = document.getElementById(outputId);\n",
              "  const steps = outputElement.steps;\n",
              "\n",
              "  const next = steps.next(outputElement.lastPromiseValue);\n",
              "  return Promise.resolve(next.value.promise).then((value) => {\n",
              "    // Cache the last promise value to make it available to the next\n",
              "    // step of the generator.\n",
              "    outputElement.lastPromiseValue = value;\n",
              "    return next.value.response;\n",
              "  });\n",
              "}\n",
              "\n",
              "/**\n",
              " * Generator function which is called between each async step of the upload\n",
              " * process.\n",
              " * @param {string} inputId Element ID of the input file picker element.\n",
              " * @param {string} outputId Element ID of the output display.\n",
              " * @return {!Iterable<!Object>} Iterable of next steps.\n",
              " */\n",
              "function* uploadFilesStep(inputId, outputId) {\n",
              "  const inputElement = document.getElementById(inputId);\n",
              "  inputElement.disabled = false;\n",
              "\n",
              "  const outputElement = document.getElementById(outputId);\n",
              "  outputElement.innerHTML = '';\n",
              "\n",
              "  const pickedPromise = new Promise((resolve) => {\n",
              "    inputElement.addEventListener('change', (e) => {\n",
              "      resolve(e.target.files);\n",
              "    });\n",
              "  });\n",
              "\n",
              "  const cancel = document.createElement('button');\n",
              "  inputElement.parentElement.appendChild(cancel);\n",
              "  cancel.textContent = 'Cancel upload';\n",
              "  const cancelPromise = new Promise((resolve) => {\n",
              "    cancel.onclick = () => {\n",
              "      resolve(null);\n",
              "    };\n",
              "  });\n",
              "\n",
              "  // Wait for the user to pick the files.\n",
              "  const files = yield {\n",
              "    promise: Promise.race([pickedPromise, cancelPromise]),\n",
              "    response: {\n",
              "      action: 'starting',\n",
              "    }\n",
              "  };\n",
              "\n",
              "  cancel.remove();\n",
              "\n",
              "  // Disable the input element since further picks are not allowed.\n",
              "  inputElement.disabled = true;\n",
              "\n",
              "  if (!files) {\n",
              "    return {\n",
              "      response: {\n",
              "        action: 'complete',\n",
              "      }\n",
              "    };\n",
              "  }\n",
              "\n",
              "  for (const file of files) {\n",
              "    const li = document.createElement('li');\n",
              "    li.append(span(file.name, {fontWeight: 'bold'}));\n",
              "    li.append(span(\n",
              "        `(${file.type || 'n/a'}) - ${file.size} bytes, ` +\n",
              "        `last modified: ${\n",
              "            file.lastModifiedDate ? file.lastModifiedDate.toLocaleDateString() :\n",
              "                                    'n/a'} - `));\n",
              "    const percent = span('0% done');\n",
              "    li.appendChild(percent);\n",
              "\n",
              "    outputElement.appendChild(li);\n",
              "\n",
              "    const fileDataPromise = new Promise((resolve) => {\n",
              "      const reader = new FileReader();\n",
              "      reader.onload = (e) => {\n",
              "        resolve(e.target.result);\n",
              "      };\n",
              "      reader.readAsArrayBuffer(file);\n",
              "    });\n",
              "    // Wait for the data to be ready.\n",
              "    let fileData = yield {\n",
              "      promise: fileDataPromise,\n",
              "      response: {\n",
              "        action: 'continue',\n",
              "      }\n",
              "    };\n",
              "\n",
              "    // Use a chunked sending to avoid message size limits. See b/62115660.\n",
              "    let position = 0;\n",
              "    do {\n",
              "      const length = Math.min(fileData.byteLength - position, MAX_PAYLOAD_SIZE);\n",
              "      const chunk = new Uint8Array(fileData, position, length);\n",
              "      position += length;\n",
              "\n",
              "      const base64 = btoa(String.fromCharCode.apply(null, chunk));\n",
              "      yield {\n",
              "        response: {\n",
              "          action: 'append',\n",
              "          file: file.name,\n",
              "          data: base64,\n",
              "        },\n",
              "      };\n",
              "\n",
              "      let percentDone = fileData.byteLength === 0 ?\n",
              "          100 :\n",
              "          Math.round((position / fileData.byteLength) * 100);\n",
              "      percent.textContent = `${percentDone}% done`;\n",
              "\n",
              "    } while (position < fileData.byteLength);\n",
              "  }\n",
              "\n",
              "  // All done.\n",
              "  yield {\n",
              "    response: {\n",
              "      action: 'complete',\n",
              "    }\n",
              "  };\n",
              "}\n",
              "\n",
              "scope.google = scope.google || {};\n",
              "scope.google.colab = scope.google.colab || {};\n",
              "scope.google.colab._files = {\n",
              "  _uploadFiles,\n",
              "  _uploadFilesContinue,\n",
              "};\n",
              "})(self);\n",
              "</script> "
            ]
          },
          "metadata": {}
        }
      ]
    },
    {
      "cell_type": "code",
      "source": [
        "PATH_D_ICD = 'DIAGNOSES_ICD.csv.gz'\n",
        "\n",
        "# PATH_D_ICD = '/content/drive/PATH_TO_DIAGNOSES_ICD.csv.gz' #edit to path on mounted drive\n",
        "\n",
        "df_diagnoses_icd = pd.read_csv(PATH_D_ICD, compression='gzip',\n",
        "                               dtype={'SEQ_NUM': 'Int64'})\n",
        "df_diagnoses_icd.info()\n",
        "df_diagnoses_icd.iloc[0]"
      ],
      "metadata": {
        "colab": {
          "base_uri": "https://localhost:8080/",
          "height": 449
        },
        "id": "pLVm-JStOnxb",
        "outputId": "5b81330d-f76e-48b1-f301-f489349ac932"
      },
      "execution_count": null,
      "outputs": [
        {
          "output_type": "stream",
          "name": "stdout",
          "text": [
            "<class 'pandas.core.frame.DataFrame'>\n",
            "RangeIndex: 651047 entries, 0 to 651046\n",
            "Data columns (total 5 columns):\n",
            " #   Column      Non-Null Count   Dtype \n",
            "---  ------      --------------   ----- \n",
            " 0   ROW_ID      651047 non-null  int64 \n",
            " 1   SUBJECT_ID  651047 non-null  int64 \n",
            " 2   HADM_ID     651047 non-null  int64 \n",
            " 3   SEQ_NUM     651000 non-null  Int64 \n",
            " 4   ICD9_CODE   651000 non-null  object\n",
            "dtypes: Int64(1), int64(3), object(1)\n",
            "memory usage: 25.5+ MB\n"
          ]
        },
        {
          "output_type": "execute_result",
          "data": {
            "text/plain": [
              "ROW_ID          1297\n",
              "SUBJECT_ID       109\n",
              "HADM_ID       172335\n",
              "SEQ_NUM            1\n",
              "ICD9_CODE      40301\n",
              "Name: 0, dtype: object"
            ],
            "text/html": [
              "<div>\n",
              "<style scoped>\n",
              "    .dataframe tbody tr th:only-of-type {\n",
              "        vertical-align: middle;\n",
              "    }\n",
              "\n",
              "    .dataframe tbody tr th {\n",
              "        vertical-align: top;\n",
              "    }\n",
              "\n",
              "    .dataframe thead th {\n",
              "        text-align: right;\n",
              "    }\n",
              "</style>\n",
              "<table border=\"1\" class=\"dataframe\">\n",
              "  <thead>\n",
              "    <tr style=\"text-align: right;\">\n",
              "      <th></th>\n",
              "      <th>0</th>\n",
              "    </tr>\n",
              "  </thead>\n",
              "  <tbody>\n",
              "    <tr>\n",
              "      <th>ROW_ID</th>\n",
              "      <td>1297</td>\n",
              "    </tr>\n",
              "    <tr>\n",
              "      <th>SUBJECT_ID</th>\n",
              "      <td>109</td>\n",
              "    </tr>\n",
              "    <tr>\n",
              "      <th>HADM_ID</th>\n",
              "      <td>172335</td>\n",
              "    </tr>\n",
              "    <tr>\n",
              "      <th>SEQ_NUM</th>\n",
              "      <td>1</td>\n",
              "    </tr>\n",
              "    <tr>\n",
              "      <th>ICD9_CODE</th>\n",
              "      <td>40301</td>\n",
              "    </tr>\n",
              "  </tbody>\n",
              "</table>\n",
              "</div><br><label><b>dtype:</b> object</label>"
            ]
          },
          "metadata": {},
          "execution_count": 4
        }
      ]
    },
    {
      "cell_type": "code",
      "source": [
        "## Filter rows with ICD9 == 430\n",
        "ICD_FILTER = [\n",
        "    '430',\n",
        "    # '4019',\n",
        "    # '42731',\n",
        "    # '4280',\n",
        "    # '41401',\n",
        "    # '5849',\n",
        "]\n",
        "df_filtered = df_diagnoses_icd[df_diagnoses_icd['ICD9_CODE'].isin(ICD_FILTER)]\n",
        "subj_filtered = df_filtered['SUBJECT_ID'].unique()\n",
        "print(f\"Number of ICD-9 {ICD_FILTER} patients: {subj_filtered.size}\")"
      ],
      "metadata": {
        "colab": {
          "base_uri": "https://localhost:8080/"
        },
        "id": "4uOrTpDFfLTR",
        "outputId": "150f021a-706c-4074-e5c0-9d816b1a77a4"
      },
      "execution_count": null,
      "outputs": [
        {
          "output_type": "stream",
          "name": "stdout",
          "text": [
            "Number of ICD-9 430 patients: 647\n"
          ]
        }
      ]
    },
    {
      "cell_type": "markdown",
      "source": [
        "# **Now Upload NOTEEVENTS and filter rows with** `subj_filtered`"
      ],
      "metadata": {
        "id": "lGcuKjiQFd6-"
      }
    },
    {
      "cell_type": "code",
      "source": [
        "# RUN if NOTEEVENTS is located on your local machine\n",
        "from google.colab import files\n",
        "uploaded = files.upload()"
      ],
      "metadata": {
        "colab": {
          "base_uri": "https://localhost:8080/",
          "height": 38
        },
        "id": "Yl3t52O6KcxA",
        "outputId": "7d44b451-09fe-4479-abc2-179706c500cf"
      },
      "execution_count": null,
      "outputs": [
        {
          "output_type": "display_data",
          "data": {
            "text/plain": [
              "<IPython.core.display.HTML object>"
            ],
            "text/html": [
              "\n",
              "     <input type=\"file\" id=\"files-53be8158-7e9c-4e6e-a376-4b74821fe538\" name=\"files[]\" multiple disabled\n",
              "        style=\"border:none\" />\n",
              "     <output id=\"result-53be8158-7e9c-4e6e-a376-4b74821fe538\">\n",
              "      Upload widget is only available when the cell has been executed in the\n",
              "      current browser session. Please rerun this cell to enable.\n",
              "      </output>\n",
              "      <script>// Copyright 2017 Google LLC\n",
              "//\n",
              "// Licensed under the Apache License, Version 2.0 (the \"License\");\n",
              "// you may not use this file except in compliance with the License.\n",
              "// You may obtain a copy of the License at\n",
              "//\n",
              "//      http://www.apache.org/licenses/LICENSE-2.0\n",
              "//\n",
              "// Unless required by applicable law or agreed to in writing, software\n",
              "// distributed under the License is distributed on an \"AS IS\" BASIS,\n",
              "// WITHOUT WARRANTIES OR CONDITIONS OF ANY KIND, either express or implied.\n",
              "// See the License for the specific language governing permissions and\n",
              "// limitations under the License.\n",
              "\n",
              "/**\n",
              " * @fileoverview Helpers for google.colab Python module.\n",
              " */\n",
              "(function(scope) {\n",
              "function span(text, styleAttributes = {}) {\n",
              "  const element = document.createElement('span');\n",
              "  element.textContent = text;\n",
              "  for (const key of Object.keys(styleAttributes)) {\n",
              "    element.style[key] = styleAttributes[key];\n",
              "  }\n",
              "  return element;\n",
              "}\n",
              "\n",
              "// Max number of bytes which will be uploaded at a time.\n",
              "const MAX_PAYLOAD_SIZE = 100 * 1024;\n",
              "\n",
              "function _uploadFiles(inputId, outputId) {\n",
              "  const steps = uploadFilesStep(inputId, outputId);\n",
              "  const outputElement = document.getElementById(outputId);\n",
              "  // Cache steps on the outputElement to make it available for the next call\n",
              "  // to uploadFilesContinue from Python.\n",
              "  outputElement.steps = steps;\n",
              "\n",
              "  return _uploadFilesContinue(outputId);\n",
              "}\n",
              "\n",
              "// This is roughly an async generator (not supported in the browser yet),\n",
              "// where there are multiple asynchronous steps and the Python side is going\n",
              "// to poll for completion of each step.\n",
              "// This uses a Promise to block the python side on completion of each step,\n",
              "// then passes the result of the previous step as the input to the next step.\n",
              "function _uploadFilesContinue(outputId) {\n",
              "  const outputElement = document.getElementById(outputId);\n",
              "  const steps = outputElement.steps;\n",
              "\n",
              "  const next = steps.next(outputElement.lastPromiseValue);\n",
              "  return Promise.resolve(next.value.promise).then((value) => {\n",
              "    // Cache the last promise value to make it available to the next\n",
              "    // step of the generator.\n",
              "    outputElement.lastPromiseValue = value;\n",
              "    return next.value.response;\n",
              "  });\n",
              "}\n",
              "\n",
              "/**\n",
              " * Generator function which is called between each async step of the upload\n",
              " * process.\n",
              " * @param {string} inputId Element ID of the input file picker element.\n",
              " * @param {string} outputId Element ID of the output display.\n",
              " * @return {!Iterable<!Object>} Iterable of next steps.\n",
              " */\n",
              "function* uploadFilesStep(inputId, outputId) {\n",
              "  const inputElement = document.getElementById(inputId);\n",
              "  inputElement.disabled = false;\n",
              "\n",
              "  const outputElement = document.getElementById(outputId);\n",
              "  outputElement.innerHTML = '';\n",
              "\n",
              "  const pickedPromise = new Promise((resolve) => {\n",
              "    inputElement.addEventListener('change', (e) => {\n",
              "      resolve(e.target.files);\n",
              "    });\n",
              "  });\n",
              "\n",
              "  const cancel = document.createElement('button');\n",
              "  inputElement.parentElement.appendChild(cancel);\n",
              "  cancel.textContent = 'Cancel upload';\n",
              "  const cancelPromise = new Promise((resolve) => {\n",
              "    cancel.onclick = () => {\n",
              "      resolve(null);\n",
              "    };\n",
              "  });\n",
              "\n",
              "  // Wait for the user to pick the files.\n",
              "  const files = yield {\n",
              "    promise: Promise.race([pickedPromise, cancelPromise]),\n",
              "    response: {\n",
              "      action: 'starting',\n",
              "    }\n",
              "  };\n",
              "\n",
              "  cancel.remove();\n",
              "\n",
              "  // Disable the input element since further picks are not allowed.\n",
              "  inputElement.disabled = true;\n",
              "\n",
              "  if (!files) {\n",
              "    return {\n",
              "      response: {\n",
              "        action: 'complete',\n",
              "      }\n",
              "    };\n",
              "  }\n",
              "\n",
              "  for (const file of files) {\n",
              "    const li = document.createElement('li');\n",
              "    li.append(span(file.name, {fontWeight: 'bold'}));\n",
              "    li.append(span(\n",
              "        `(${file.type || 'n/a'}) - ${file.size} bytes, ` +\n",
              "        `last modified: ${\n",
              "            file.lastModifiedDate ? file.lastModifiedDate.toLocaleDateString() :\n",
              "                                    'n/a'} - `));\n",
              "    const percent = span('0% done');\n",
              "    li.appendChild(percent);\n",
              "\n",
              "    outputElement.appendChild(li);\n",
              "\n",
              "    const fileDataPromise = new Promise((resolve) => {\n",
              "      const reader = new FileReader();\n",
              "      reader.onload = (e) => {\n",
              "        resolve(e.target.result);\n",
              "      };\n",
              "      reader.readAsArrayBuffer(file);\n",
              "    });\n",
              "    // Wait for the data to be ready.\n",
              "    let fileData = yield {\n",
              "      promise: fileDataPromise,\n",
              "      response: {\n",
              "        action: 'continue',\n",
              "      }\n",
              "    };\n",
              "\n",
              "    // Use a chunked sending to avoid message size limits. See b/62115660.\n",
              "    let position = 0;\n",
              "    do {\n",
              "      const length = Math.min(fileData.byteLength - position, MAX_PAYLOAD_SIZE);\n",
              "      const chunk = new Uint8Array(fileData, position, length);\n",
              "      position += length;\n",
              "\n",
              "      const base64 = btoa(String.fromCharCode.apply(null, chunk));\n",
              "      yield {\n",
              "        response: {\n",
              "          action: 'append',\n",
              "          file: file.name,\n",
              "          data: base64,\n",
              "        },\n",
              "      };\n",
              "\n",
              "      let percentDone = fileData.byteLength === 0 ?\n",
              "          100 :\n",
              "          Math.round((position / fileData.byteLength) * 100);\n",
              "      percent.textContent = `${percentDone}% done`;\n",
              "\n",
              "    } while (position < fileData.byteLength);\n",
              "  }\n",
              "\n",
              "  // All done.\n",
              "  yield {\n",
              "    response: {\n",
              "      action: 'complete',\n",
              "    }\n",
              "  };\n",
              "}\n",
              "\n",
              "scope.google = scope.google || {};\n",
              "scope.google.colab = scope.google.colab || {};\n",
              "scope.google.colab._files = {\n",
              "  _uploadFiles,\n",
              "  _uploadFilesContinue,\n",
              "};\n",
              "})(self);\n",
              "</script> "
            ]
          },
          "metadata": {}
        }
      ]
    },
    {
      "cell_type": "code",
      "metadata": {
        "id": "UbarFU651RSV",
        "colab": {
          "base_uri": "https://localhost:8080/",
          "height": 776
        },
        "outputId": "47e6a3da-b6e9-4f6c-b367-90d5be1ded7f"
      },
      "source": [
        "PATH_TO_NOTEEVENTS = 'NOTEEVENTS.csv.gz'\n",
        "\n",
        "# PATH_TO_NOTEEVENTS = '/content/PATH_TO_NOTEEVENTS.csv.gz' #edit to path on mounted drive\n",
        "\n",
        "df_noteevents = pd.read_csv(PATH_TO_NOTEEVENTS, compression='gzip')\n",
        "df_noteevents.info()\n",
        "df_noteevents.iloc[0]"
      ],
      "execution_count": null,
      "outputs": [
        {
          "output_type": "stream",
          "name": "stderr",
          "text": [
            "<ipython-input-7-d5cfebc53810>:6: DtypeWarning: Columns (4,5) have mixed types. Specify dtype option on import or set low_memory=False.\n",
            "  df_noteevents = pd.read_csv(PATH_TO_NOTEEVENTS, compression='gzip')\n"
          ]
        },
        {
          "output_type": "stream",
          "name": "stdout",
          "text": [
            "<class 'pandas.core.frame.DataFrame'>\n",
            "RangeIndex: 2083180 entries, 0 to 2083179\n",
            "Data columns (total 11 columns):\n",
            " #   Column       Dtype  \n",
            "---  ------       -----  \n",
            " 0   ROW_ID       int64  \n",
            " 1   SUBJECT_ID   int64  \n",
            " 2   HADM_ID      float64\n",
            " 3   CHARTDATE    object \n",
            " 4   CHARTTIME    object \n",
            " 5   STORETIME    object \n",
            " 6   CATEGORY     object \n",
            " 7   DESCRIPTION  object \n",
            " 8   CGID         float64\n",
            " 9   ISERROR      float64\n",
            " 10  TEXT         object \n",
            "dtypes: float64(3), int64(2), object(6)\n",
            "memory usage: 174.8+ MB\n"
          ]
        },
        {
          "output_type": "execute_result",
          "data": {
            "text/plain": [
              "ROW_ID                                                       174\n",
              "SUBJECT_ID                                                 22532\n",
              "HADM_ID                                                 167853.0\n",
              "CHARTDATE                                             2151-08-04\n",
              "CHARTTIME                                                    NaN\n",
              "STORETIME                                                    NaN\n",
              "CATEGORY                                       Discharge summary\n",
              "DESCRIPTION                                               Report\n",
              "CGID                                                         NaN\n",
              "ISERROR                                                      NaN\n",
              "TEXT           Admission Date:  [**2151-7-16**]       Dischar...\n",
              "Name: 0, dtype: object"
            ],
            "text/html": [
              "<div>\n",
              "<style scoped>\n",
              "    .dataframe tbody tr th:only-of-type {\n",
              "        vertical-align: middle;\n",
              "    }\n",
              "\n",
              "    .dataframe tbody tr th {\n",
              "        vertical-align: top;\n",
              "    }\n",
              "\n",
              "    .dataframe thead th {\n",
              "        text-align: right;\n",
              "    }\n",
              "</style>\n",
              "<table border=\"1\" class=\"dataframe\">\n",
              "  <thead>\n",
              "    <tr style=\"text-align: right;\">\n",
              "      <th></th>\n",
              "      <th>0</th>\n",
              "    </tr>\n",
              "  </thead>\n",
              "  <tbody>\n",
              "    <tr>\n",
              "      <th>ROW_ID</th>\n",
              "      <td>174</td>\n",
              "    </tr>\n",
              "    <tr>\n",
              "      <th>SUBJECT_ID</th>\n",
              "      <td>22532</td>\n",
              "    </tr>\n",
              "    <tr>\n",
              "      <th>HADM_ID</th>\n",
              "      <td>167853.0</td>\n",
              "    </tr>\n",
              "    <tr>\n",
              "      <th>CHARTDATE</th>\n",
              "      <td>2151-08-04</td>\n",
              "    </tr>\n",
              "    <tr>\n",
              "      <th>CHARTTIME</th>\n",
              "      <td>NaN</td>\n",
              "    </tr>\n",
              "    <tr>\n",
              "      <th>STORETIME</th>\n",
              "      <td>NaN</td>\n",
              "    </tr>\n",
              "    <tr>\n",
              "      <th>CATEGORY</th>\n",
              "      <td>Discharge summary</td>\n",
              "    </tr>\n",
              "    <tr>\n",
              "      <th>DESCRIPTION</th>\n",
              "      <td>Report</td>\n",
              "    </tr>\n",
              "    <tr>\n",
              "      <th>CGID</th>\n",
              "      <td>NaN</td>\n",
              "    </tr>\n",
              "    <tr>\n",
              "      <th>ISERROR</th>\n",
              "      <td>NaN</td>\n",
              "    </tr>\n",
              "    <tr>\n",
              "      <th>TEXT</th>\n",
              "      <td>Admission Date:  [**2151-7-16**]       Dischar...</td>\n",
              "    </tr>\n",
              "  </tbody>\n",
              "</table>\n",
              "</div><br><label><b>dtype:</b> object</label>"
            ]
          },
          "metadata": {},
          "execution_count": 7
        }
      ]
    },
    {
      "cell_type": "markdown",
      "source": [
        "Sample medical note:"
      ],
      "metadata": {
        "id": "cxxD29lDV_zj"
      }
    },
    {
      "cell_type": "code",
      "source": [
        "print(df_noteevents.iloc[0]['TEXT'])"
      ],
      "metadata": {
        "colab": {
          "base_uri": "https://localhost:8080/"
        },
        "outputId": "2282e017-977e-44b3-8e85-a43d9a35e769",
        "id": "oWDYFxy3kkf0"
      },
      "execution_count": null,
      "outputs": [
        {
          "output_type": "stream",
          "name": "stdout",
          "text": [
            "Admission Date:  [**2151-7-16**]       Discharge Date:  [**2151-8-4**]\n",
            "\n",
            "\n",
            "Service:\n",
            "ADDENDUM:\n",
            "\n",
            "RADIOLOGIC STUDIES:  Radiologic studies also included a chest\n",
            "CT, which confirmed cavitary lesions in the left lung apex\n",
            "consistent with infectious process/tuberculosis.  This also\n",
            "moderate-sized left pleural effusion.\n",
            "\n",
            "HEAD CT:  Head CT showed no intracranial hemorrhage or mass\n",
            "effect, but old infarction consistent with past medical\n",
            "history.\n",
            "\n",
            "ABDOMINAL CT:  Abdominal CT showed lesions of\n",
            "T10 and sacrum most likely secondary to osteoporosis. These can\n",
            "be followed by repeat imaging as an outpatient.\n",
            "\n",
            "\n",
            "\n",
            "                            [**First Name8 (NamePattern2) **] [**First Name4 (NamePattern1) 1775**] [**Last Name (NamePattern1) **], M.D.  [**MD Number(1) 1776**]\n",
            "\n",
            "Dictated By:[**Hospital 1807**]\n",
            "MEDQUIST36\n",
            "\n",
            "D:  [**2151-8-5**]  12:11\n",
            "T:  [**2151-8-5**]  12:21\n",
            "JOB#:  [**Job Number 1808**]\n",
            "\n"
          ]
        }
      ]
    },
    {
      "cell_type": "markdown",
      "source": [
        "Optional preprocessing steps:"
      ],
      "metadata": {
        "id": "uSTGxCJIV41Q"
      }
    },
    {
      "cell_type": "code",
      "source": [
        "# Fill NaN CHARTTIME with an CHARTDATE + 00:00:00 time\n",
        "df_noteevents[\"CHARTTIME\"] = df_noteevents[\"CHARTTIME\"].fillna(df_noteevents[\"CHARTDATE\"] + \" 00:00:00\")\n",
        "\n",
        "# Additionally, ensure NaN type from STORETIME are converted to NaT (Not a Time)\n",
        "df_noteevents[\"STORETIME\"] = pd.to_datetime(df_noteevents[\"STORETIME\"], errors=\"coerce\")\n",
        "df_noteevents['CHARTTIME']"
      ],
      "metadata": {
        "colab": {
          "base_uri": "https://localhost:8080/",
          "height": 458
        },
        "id": "XgiA5q2-UMOv",
        "outputId": "3664557d-976c-48df-be5d-54a24d410e9e",
        "collapsed": true
      },
      "execution_count": null,
      "outputs": [
        {
          "output_type": "execute_result",
          "data": {
            "text/plain": [
              "0          2151-08-04 00:00:00\n",
              "1          2118-06-14 00:00:00\n",
              "2          2119-05-25 00:00:00\n",
              "3          2124-08-18 00:00:00\n",
              "4          2162-03-25 00:00:00\n",
              "                  ...         \n",
              "2083175    2132-01-21 03:27:00\n",
              "2083176    2132-01-21 09:50:00\n",
              "2083177    2132-01-21 16:42:00\n",
              "2083178    2132-01-21 18:05:00\n",
              "2083179    2132-01-21 18:05:00\n",
              "Name: CHARTTIME, Length: 2083180, dtype: object"
            ],
            "text/html": [
              "<div>\n",
              "<style scoped>\n",
              "    .dataframe tbody tr th:only-of-type {\n",
              "        vertical-align: middle;\n",
              "    }\n",
              "\n",
              "    .dataframe tbody tr th {\n",
              "        vertical-align: top;\n",
              "    }\n",
              "\n",
              "    .dataframe thead th {\n",
              "        text-align: right;\n",
              "    }\n",
              "</style>\n",
              "<table border=\"1\" class=\"dataframe\">\n",
              "  <thead>\n",
              "    <tr style=\"text-align: right;\">\n",
              "      <th></th>\n",
              "      <th>CHARTTIME</th>\n",
              "    </tr>\n",
              "  </thead>\n",
              "  <tbody>\n",
              "    <tr>\n",
              "      <th>0</th>\n",
              "      <td>2151-08-04 00:00:00</td>\n",
              "    </tr>\n",
              "    <tr>\n",
              "      <th>1</th>\n",
              "      <td>2118-06-14 00:00:00</td>\n",
              "    </tr>\n",
              "    <tr>\n",
              "      <th>2</th>\n",
              "      <td>2119-05-25 00:00:00</td>\n",
              "    </tr>\n",
              "    <tr>\n",
              "      <th>3</th>\n",
              "      <td>2124-08-18 00:00:00</td>\n",
              "    </tr>\n",
              "    <tr>\n",
              "      <th>4</th>\n",
              "      <td>2162-03-25 00:00:00</td>\n",
              "    </tr>\n",
              "    <tr>\n",
              "      <th>...</th>\n",
              "      <td>...</td>\n",
              "    </tr>\n",
              "    <tr>\n",
              "      <th>2083175</th>\n",
              "      <td>2132-01-21 03:27:00</td>\n",
              "    </tr>\n",
              "    <tr>\n",
              "      <th>2083176</th>\n",
              "      <td>2132-01-21 09:50:00</td>\n",
              "    </tr>\n",
              "    <tr>\n",
              "      <th>2083177</th>\n",
              "      <td>2132-01-21 16:42:00</td>\n",
              "    </tr>\n",
              "    <tr>\n",
              "      <th>2083178</th>\n",
              "      <td>2132-01-21 18:05:00</td>\n",
              "    </tr>\n",
              "    <tr>\n",
              "      <th>2083179</th>\n",
              "      <td>2132-01-21 18:05:00</td>\n",
              "    </tr>\n",
              "  </tbody>\n",
              "</table>\n",
              "<p>2083180 rows × 1 columns</p>\n",
              "</div><br><label><b>dtype:</b> object</label>"
            ]
          },
          "metadata": {},
          "execution_count": 9
        }
      ]
    },
    {
      "cell_type": "markdown",
      "metadata": {
        "id": "g_5e6MZiGrju"
      },
      "source": [
        "# **Filter the data in files to create a new relevant dataframe**"
      ]
    },
    {
      "cell_type": "code",
      "source": [
        "df_noteevents_filtered = df_noteevents[df_noteevents['SUBJECT_ID'].isin(subj_filtered)]\n",
        "df_noteevents_filtered.info()"
      ],
      "metadata": {
        "colab": {
          "base_uri": "https://localhost:8080/"
        },
        "id": "2RUsdTu6XN3c",
        "outputId": "4b426eda-1007-4290-bbab-1c1146ad8b0d"
      },
      "execution_count": null,
      "outputs": [
        {
          "output_type": "stream",
          "name": "stdout",
          "text": [
            "<class 'pandas.core.frame.DataFrame'>\n",
            "Index: 34258 entries, 74 to 2066473\n",
            "Data columns (total 11 columns):\n",
            " #   Column       Non-Null Count  Dtype         \n",
            "---  ------       --------------  -----         \n",
            " 0   ROW_ID       34258 non-null  int64         \n",
            " 1   SUBJECT_ID   34258 non-null  int64         \n",
            " 2   HADM_ID      31929 non-null  float64       \n",
            " 3   CHARTDATE    34258 non-null  object        \n",
            " 4   CHARTTIME    34258 non-null  object        \n",
            " 5   STORETIME    19699 non-null  datetime64[ns]\n",
            " 6   CATEGORY     34258 non-null  object        \n",
            " 7   DESCRIPTION  34258 non-null  object        \n",
            " 8   CGID         19699 non-null  float64       \n",
            " 9   ISERROR      20 non-null     float64       \n",
            " 10  TEXT         34258 non-null  object        \n",
            "dtypes: datetime64[ns](1), float64(3), int64(2), object(5)\n",
            "memory usage: 3.1+ MB\n"
          ]
        }
      ]
    },
    {
      "cell_type": "code",
      "source": [
        "df_noteevents_filtered['CATEGORY'].unique()"
      ],
      "metadata": {
        "colab": {
          "base_uri": "https://localhost:8080/"
        },
        "id": "4VUOsxmsbLaB",
        "outputId": "934c26a3-0990-412c-f332-d42e6194d7ab"
      },
      "execution_count": null,
      "outputs": [
        {
          "output_type": "execute_result",
          "data": {
            "text/plain": [
              "array(['Discharge summary', 'Echo', 'ECG', 'Nursing', 'Physician ',\n",
              "       'General', 'Respiratory ', 'Nutrition', 'Social Work',\n",
              "       'Rehab Services', 'Consult', 'Case Management ', 'Pharmacy',\n",
              "       'Radiology', 'Nursing/other'], dtype=object)"
            ]
          },
          "metadata": {},
          "execution_count": 11
        }
      ]
    },
    {
      "cell_type": "markdown",
      "source": [
        "### Let's say we only want the notes where `CATEGORY=='Radiology'`.\n",
        "\n",
        "We obtain a DataFrame with 11,385 medical notes (1 MB) down from 2,083,180 (175 MB) in the original `NOTEEVENTS` table."
      ],
      "metadata": {
        "id": "PQHDDxoRb8z6"
      }
    },
    {
      "cell_type": "code",
      "metadata": {
        "id": "xPI1OnA_CY__",
        "colab": {
          "base_uri": "https://localhost:8080/"
        },
        "outputId": "b3bc89ba-a55b-4a1c-e0b3-1d5ff05a01e6"
      },
      "source": [
        "df_430_radiology_notes = df_noteevents_filtered[df_noteevents_filtered['CATEGORY'] == 'Radiology']\n",
        "df_430_radiology_notes.info()"
      ],
      "execution_count": null,
      "outputs": [
        {
          "output_type": "stream",
          "name": "stdout",
          "text": [
            "<class 'pandas.core.frame.DataFrame'>\n",
            "Index: 11385 entries, 732908 to 1300853\n",
            "Data columns (total 11 columns):\n",
            " #   Column       Non-Null Count  Dtype         \n",
            "---  ------       --------------  -----         \n",
            " 0   ROW_ID       11385 non-null  int64         \n",
            " 1   SUBJECT_ID   11385 non-null  int64         \n",
            " 2   HADM_ID      9639 non-null   float64       \n",
            " 3   CHARTDATE    11385 non-null  object        \n",
            " 4   CHARTTIME    11385 non-null  object        \n",
            " 5   STORETIME    0 non-null      datetime64[ns]\n",
            " 6   CATEGORY     11385 non-null  object        \n",
            " 7   DESCRIPTION  11385 non-null  object        \n",
            " 8   CGID         0 non-null      float64       \n",
            " 9   ISERROR      0 non-null      float64       \n",
            " 10  TEXT         11385 non-null  object        \n",
            "dtypes: datetime64[ns](1), float64(3), int64(2), object(5)\n",
            "memory usage: 1.0+ MB\n"
          ]
        }
      ]
    },
    {
      "cell_type": "code",
      "source": [
        "print(df_430_radiology_notes.iloc[0]['TEXT'])"
      ],
      "metadata": {
        "colab": {
          "base_uri": "https://localhost:8080/"
        },
        "outputId": "a2a19bd4-c076-4a49-ff14-c72305db718d",
        "id": "kQeBu2rSkfOU"
      },
      "execution_count": null,
      "outputs": [
        {
          "output_type": "stream",
          "name": "stdout",
          "text": [
            "[**2138-8-20**] 9:36 PM\n",
            " CHEST (PORTABLE AP)                                             Clip # [**Clip Number (Radiology) 29153**]\n",
            " Reason: s/p aneurysm clipping. Spiked Fever of 102\n",
            " ______________________________________________________________________________\n",
            " [**Hospital 4**] MEDICAL CONDITION:\n",
            "  50 year old man s/p aneurysm clipping, spiked fever of 102 F, R/O pneumonia.\n",
            " REASON FOR THIS EXAMINATION:\n",
            "  s/p aneurysm clipping. Spiked Fever of 102\n",
            " ______________________________________________________________________________\n",
            "                                 FINAL REPORT\n",
            " INDICATION:  Aneurysm clipping. Spike in fevers.\n",
            "\n",
            " CHEST, SINGLE VIEW\n",
            "\n",
            " Comparison to prior radiograph [**2138-8-17**].\n",
            "\n",
            " The heart, mediastinal and hilar contours are within normal limits. The\n",
            " patient is mildly rotated but the visualized lungs are clear with no focal\n",
            " consolidations or pleural effusions.\n",
            "\n",
            " IMPRESSION:\n",
            "\n",
            " 1. No evidence of pneumonia.\n",
            "\n",
            "\n"
          ]
        }
      ]
    },
    {
      "cell_type": "markdown",
      "source": [
        "Be mindful that a `DESCRIPTION=='Addendum'` indicates an addendum (additional text to be added to the previous report)—i.e., you may need to concatenate some notes together down the line."
      ],
      "metadata": {
        "id": "Bdy7uq3OVaJc"
      }
    },
    {
      "cell_type": "markdown",
      "metadata": {
        "id": "Jr-ElsfDCka6"
      },
      "source": [
        "# **Download the created DataFrame**"
      ]
    },
    {
      "cell_type": "code",
      "metadata": {
        "id": "YXJ4PjwAAAvo"
      },
      "source": [
        "df_430_radiology_notes.to_csv('df_430_radiology_notes.csv', index=False)"
      ],
      "execution_count": null,
      "outputs": []
    }
  ]
}